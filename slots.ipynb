{
 "cells": [
  {
   "attachments": {},
   "cell_type": "markdown",
   "metadata": {},
   "source": [
    "При помощи этой конструкции экземплярам класса можно задать только определенные атрибуты\n",
    "Посмотрим как это работает на примере:"
   ]
  },
  {
   "cell_type": "code",
   "execution_count": null,
   "metadata": {},
   "outputs": [],
   "source": [
    "class Point:\n",
    "\n",
    "    def __init__(self, x, y):\n",
    "        self.x = x\n",
    "        self.y = y\n",
    "\n",
    "p = Point(12, 14)\n",
    "p.new = 12\n",
    "print(dir(p))"
   ]
  },
  {
   "attachments": {},
   "cell_type": "markdown",
   "metadata": {},
   "source": [
    "Как мы видим мы можем создавать новые атрибуты к экземпляру нашего классе вне нашего класса. И мы хотим, чтобы такого не происходило.\\\n",
    "Мы хотим, чтобы четко фиксированное количество атрибутов было у экземпляра нашего класса."
   ]
  },
  {
   "cell_type": "code",
   "execution_count": null,
   "metadata": {},
   "outputs": [],
   "source": [
    "class Point:\n",
    "\n",
    "    __slots__ = ('x', 'y')\n",
    "\n",
    "    def __init__(self, x, y):\n",
    "        self.x = x\n",
    "        self.y = y\n",
    "\n",
    "\n",
    "p = Point(12, 14)\n",
    "p.new = 12\n",
    "# AttributeError"
   ]
  },
  {
   "attachments": {},
   "cell_type": "markdown",
   "metadata": {},
   "source": [
    "В магическом атрибуте \\_\\_slots\\_\\_ нашего класса Point мы указали что у экземпляров этого класса должны быть только атрибуты x и y.\\\n",
    "\\_\\_slots\\_\\_ должен быть неизменяемым итерируемым объектом. Он должен содержать имена атрибутов, которые будут присутствовать в экземпляре нашего класса\\\n",
    "\\\n",
    "Slots нужен для того, чтобы создать ограничение для количества атрибутов.\\\n",
    "Классы, которые написаны с использованием slots занимают меньше памяти\\\n",
    "При использовании slots требуется меньше времени на стандартные операции при работе с классами,\\\n",
    "а именно: добавление атрибута, удаление атрибута, изменение значения атрибута, обращение к атрибуту\\\n",
    "\\\n",
    "Чтобы убедиться в том, что действительно меньше памяти расходуется, можно запустить следующий код:"
   ]
  },
  {
   "cell_type": "code",
   "execution_count": null,
   "metadata": {},
   "outputs": [],
   "source": [
    "class Point:\n",
    "\n",
    "    def __init__(self, x, y):\n",
    "        self.x = x\n",
    "        self.y = y\n",
    "\n",
    "\n",
    "class PointSlots:\n",
    "\n",
    "    __slots__ = ('x', 'y')\n",
    "\n",
    "    def __init__(self, x, y):\n",
    "        self.x = x\n",
    "        self.y = y\n",
    "\n",
    "\n",
    "p = Point(12, 14)\n",
    "ps = PointSlots(12, 14)\n",
    "print(p.__sizeof__(), p.__dict__.__sizeof__())\n",
    "print(ps.__sizeof__())"
   ]
  },
  {
   "attachments": {},
   "cell_type": "markdown",
   "metadata": {},
   "source": [
    "Чтобы убедиться в том, что действительно уходит меньше времени на стандартные операции, можно запустить следующий код:"
   ]
  },
  {
   "cell_type": "code",
   "execution_count": null,
   "metadata": {},
   "outputs": [],
   "source": [
    "from timeit import timeit\n",
    "\n",
    "class Point:\n",
    "\n",
    "    def __init__(self, x, y):\n",
    "        self.x = x\n",
    "        self.y = y\n",
    "\n",
    "\n",
    "class PointSlots:\n",
    "\n",
    "    __slots__ = ('x', 'y')\n",
    "\n",
    "    def __init__(self, x, y):\n",
    "        self.x = x\n",
    "        self.y = y\n",
    "\n",
    "def make_c1():\n",
    "    s = Point(3, 4)\n",
    "    s.x = 100\n",
    "    s.x\n",
    "    del s.x\n",
    "\n",
    "\n",
    "def make_c2():\n",
    "    s = PointSlots(3, 4)\n",
    "    s.x = 100\n",
    "    s.x\n",
    "    del s.x\n",
    "\n",
    "\n",
    "print(timeit(make_c1))\n",
    "print(timeit(make_c2))"
   ]
  },
  {
   "attachments": {},
   "cell_type": "markdown",
   "metadata": {},
   "source": [
    "В нём наши два класса и две функции, одна из них делает стандратные операции с экземпляром класса Point, а другая с экземпляром класса PointSlots и также используем штуку, которая позволяет измерить время выполнения функции.\\\n",
    "Таким образом убеждаемся в том, что с использованием slots достигается меньшее использование времени на стандратные операции над экземплярами класса\\\n",
    "\\\n",
    "Будем разбираться с slots дальше\\\n",
    "\\\n",
    "Создадим класс прямоугольник и в нём сделаем вычисляемые свойства по нахождению периметра и площади"
   ]
  },
  {
   "cell_type": "code",
   "execution_count": null,
   "metadata": {},
   "outputs": [],
   "source": [
    "class Rectangle:\n",
    "\n",
    "    __slots__ = ('__width', 'height')\n",
    "\n",
    "    def __init__(self, a, b):\n",
    "        self.width = a\n",
    "        self.height = b\n",
    "\n",
    "\n",
    "    @property\n",
    "    def perimetr(self): #Вычисляемое свойство\n",
    "        return (self.height + self.width) * 2\n",
    "\n",
    "\n",
    "    @property\n",
    "    def area(self, value): # вычисляемое свойство\n",
    "        return self.height * self.width\n",
    "\n",
    "\n",
    "b = Rectangle(4, 5)\n",
    "print(b.area)\n",
    "print(b.perimetr)"
   ]
  },
  {
   "attachments": {},
   "cell_type": "markdown",
   "metadata": {},
   "source": [
    "Как мы видим в slots не указаны в качестве атрибутов perimetr и area, но при этом у нас всё работает\\\n",
    "\\\n",
    "Ну раз мы уже умные, значит мы можем создать собственные геттеры и сеттеры через property"
   ]
  },
  {
   "cell_type": "code",
   "execution_count": null,
   "metadata": {},
   "outputs": [],
   "source": [
    "class Rectangle:\n",
    "\n",
    "    __slots__ = ('__width', 'height')\n",
    "\n",
    "    def __init__(self, a, b):\n",
    "        self.width = a\n",
    "        self.height = b\n",
    "\n",
    "    @property\n",
    "    def width(self):\n",
    "        return self.__width\n",
    "\n",
    "    @width.setter\n",
    "    def width(self, value):\n",
    "        self.__width = value"
   ]
  },
  {
   "attachments": {},
   "cell_type": "markdown",
   "metadata": {},
   "source": [
    "При инициализации экземпляра класса Rectangle будет происходить следующее:\\\n",
    "self.width = a повлечет за собой вызов сеттера для width и тем самым будет установлен защищенный атрибут __width\\\n",
    "\\\n",
    "Хорошо, теперь мы умеем работать с property в тех классах, где есть \\_\\_slots\\_\\_\\\n",
    "А что же там с наследованием ?"
   ]
  },
  {
   "cell_type": "code",
   "execution_count": null,
   "metadata": {},
   "outputs": [],
   "source": [
    "class Rectangle:\n",
    "\n",
    "    __slots__ = ('__width', 'height')\n",
    "\n",
    "    def __init__(self, a, b):\n",
    "        self.width = a\n",
    "        self.height = b\n",
    "\n",
    "    @property\n",
    "    def width(self):\n",
    "        return self.__width\n",
    "\n",
    "    @width.setter\n",
    "    def width(self, value):\n",
    "        self.__width = value\n",
    "\n",
    "class Square(Rectangle):\n",
    "    \n",
    "    __slots__ = ('color')\n",
    "    \n",
    "    def __init__(self, a, b, color):\n",
    "        super().__init__(a, b)\n",
    "        self.color = color\n",
    "\n",
    "d = Square(2, 2, 'red')\n",
    "print(d.width)\n",
    "print(d.height)\n",
    "print(d.color)\n",
    "d.qwerty = 123 # AttributeError"
   ]
  },
  {
   "attachments": {},
   "cell_type": "markdown",
   "metadata": {},
   "source": [
    "Таким образом если написать slots в дочернем классе, у родителя которого присутствует slots, то произойдет расширение уже имеющегося slots. Мы можем пользоваться атрибутами класса родителя в экземплярах классов потомка\\\n",
    "\\\n",
    "Но если мы просто отнаследуемся от класса, в котором slots имеется, то никаких ограничений на атрибуты класса потомка накладываться не будет:"
   ]
  },
  {
   "cell_type": "code",
   "execution_count": null,
   "metadata": {},
   "outputs": [],
   "source": [
    "class Rectangle:\n",
    "\n",
    "    __slots__ = ('__width', 'height')\n",
    "\n",
    "    def __init__(self, a, b):\n",
    "        self.width = a\n",
    "        self.height = b\n",
    "\n",
    "    @property\n",
    "    def width(self):\n",
    "        return self.__width\n",
    "\n",
    "    @width.setter\n",
    "    def width(self, value):\n",
    "        self.__width = value\n",
    "\n",
    "\n",
    "class Square(Rectangle):\n",
    "    pass\n",
    "\n",
    "d = Square(3, 3)\n",
    "d.qwerty = 1234\n",
    "print(d.qwerty)"
   ]
  }
 ],
 "metadata": {
  "kernelspec": {
   "display_name": "Python 3",
   "language": "python",
   "name": "python3"
  },
  "language_info": {
   "codemirror_mode": {
    "name": "ipython",
    "version": 3
   },
   "file_extension": ".py",
   "mimetype": "text/x-python",
   "name": "python",
   "nbconvert_exporter": "python",
   "pygments_lexer": "ipython3",
   "version": "3.10.7"
  },
  "orig_nbformat": 4
 },
 "nbformat": 4,
 "nbformat_minor": 2
}
