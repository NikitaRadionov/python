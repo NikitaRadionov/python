{
 "cells": [
  {
   "cell_type": "code",
   "execution_count": null,
   "metadata": {},
   "outputs": [],
   "source": [
    "class BankAccount:\n",
    "\n",
    "    def __init__(self, name, balance):\n",
    "        self.name = name\n",
    "        self.balance = balance\n",
    "\n",
    "bob = BankAccount(\"Bob\", 100000)\n",
    "print(bob.balance)\n",
    "bob.balance = \"hello\""
   ]
  },
  {
   "attachments": {},
   "cell_type": "markdown",
   "metadata": {},
   "source": [
    "Нам не нравится то, что мы можем получать доступ к атрибуту balance (Кому же будет приятно, когда любой желающий увидит сколько денег у вас на счете ?)\\\n",
    "а также мы спокойно можем атрибуту balance присвоить любое значение, даже какую-нибудь строку."
   ]
  },
  {
   "cell_type": "code",
   "execution_count": null,
   "metadata": {},
   "outputs": [],
   "source": [
    "class BankAccount:\n",
    "\n",
    "    def __init__(self, name, balance):\n",
    "        self.name = name\n",
    "        self.__balance = balance\n",
    "\n",
    "    def get_balance(self): # getter\n",
    "        print(\"get_balance\")\n",
    "        return self.__balance\n",
    "\n",
    "    def set_balance(self, value): # setter\n",
    "        if not isinstance(value, (int, float)):\n",
    "            raise ValueError(\"Balance must be figure\")\n",
    "        self.__balance = value"
   ]
  },
  {
   "attachments": {},
   "cell_type": "markdown",
   "metadata": {},
   "source": [
    "Как мы видим, у нас появились два волшебных метода, называемые геттером и сеттером.\\\n",
    "Геттер выдает значение приватной переменной, а сеттер устанавливает новое значение приватной переменной.\\\n",
    "Теперь мы можем не бояться того, что наши данные как-то случайно изменятся, и спокойно пользоваться методами get_balance и set_balance."
   ]
  }
 ],
 "metadata": {
  "language_info": {
   "name": "python"
  },
  "orig_nbformat": 4
 },
 "nbformat": 4,
 "nbformat_minor": 2
}
