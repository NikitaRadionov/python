{
 "cells": [
  {
   "attachments": {},
   "cell_type": "markdown",
   "metadata": {},
   "source": [
    "Для работы с private переменными мы начились создавать геттеры, сеттеры и делитеры\\\n",
    "Но хочется все также обращаться через точку именно к balance (приватному атрибуту) и при этом быть безнаказанным.\\\n",
    "И это на самом деле можно устроить с помощью property\\\n",
    "Property это определнный класс, который позволят добиться такого поведения\\\n",
    "Как же это сделать ? Ответ: Нужно создать атрибут класса, который является экземпляром класса property, и назвать атрибут класса так, как вы желаете обращаться к нему через точку.\\\n",
    "В нашем случае имя будет balance (но может быть и другим, например my_balance). Такой атрибут и называется свойством\\\n",
    "\\\n",
    "Итак, property (свойство) - атрибут класса, который является экземпляром класса property\\\n",
    "\\\n",
    "Давайте же теперь научимся устанавливать геттеры, сеттеры и делитеры с помощью декоратора property"
   ]
  },
  {
   "cell_type": "code",
   "execution_count": null,
   "metadata": {},
   "outputs": [],
   "source": [
    "class BankAccount:\n",
    "\n",
    "    def __init__(self, name, balance):\n",
    "        self.name = name\n",
    "        self.__balance = balance\n",
    "\n",
    "    def get_balance(self): # getter\n",
    "        print(\"get_balance\")\n",
    "        return self.__balance\n",
    "\n",
    "    def set_balance(self, value): # setter\n",
    "        if not isinstance(value, (int, float)):\n",
    "            raise ValueError(\"Balance must be a figure\")\n",
    "        self.__balance = value\n",
    "\n",
    "    def delete_balance(self): # deleter\n",
    "        print(\"delete balance\")\n",
    "        del self.__balance\n",
    "\n",
    "    balance = property(fget=get_balance,\n",
    "                       fset=set_balance,\n",
    "                       fdel=delete_balance)\n",
    "\n",
    "user = BankAccount(\"Misha\", 100000)\n",
    "print(user.balance) # 100000\n",
    "user.balance = 3000\n",
    "print(user.balance) # 3000\n",
    "user.balance = \"Hello\" # ValueError: Balance must be a figure\n",
    "del user.balance\n",
    "print(user.balance) # AttributeError"
   ]
  },
  {
   "attachments": {},
   "cell_type": "markdown",
   "metadata": {},
   "source": [
    "getter и setter мы определили таким образом, что при каждом их вызове срабатывает print.\\\n",
    "Это было сделано с целью показать, в какой момент времени они будут срабатывать.\\\n",
    "С помощью property мы также смогли определить удаление приватного атрибута balance\\\n",
    "\\\n",
    "Поймем что же такое property"
   ]
  },
  {
   "cell_type": "code",
   "execution_count": 2,
   "metadata": {},
   "outputs": [
    {
     "name": "stdout",
     "output_type": "stream",
     "text": [
      "<property object at 0x0000025EAC52BBF0>\n",
      "<class 'property'>\n"
     ]
    }
   ],
   "source": [
    "x = property()\n",
    "print(x)\n",
    "print(type(x))"
   ]
  },
  {
   "attachments": {},
   "cell_type": "markdown",
   "metadata": {},
   "source": [
    "Видим, что x это экземпляр класса property и соответственно type(x) говорит, что у x класс property\\\n",
    "Написав x. через подсказку редактора кода мы можем видеть, что с объектом x можно совершать такие вызовы через точку: x.getter(), x.setter(), x.deleter()\\\n",
    "Результатом вызова всех этих трех методов будет являться объекты property"
   ]
  },
  {
   "cell_type": "code",
   "execution_count": 3,
   "metadata": {},
   "outputs": [
    {
     "name": "stdout",
     "output_type": "stream",
     "text": [
      "<property object at 0x0000025EAC52A340>\n"
     ]
    }
   ],
   "source": [
    "print(x.getter(10)) # property obj"
   ]
  },
  {
   "attachments": {},
   "cell_type": "markdown",
   "metadata": {},
   "source": [
    "В эти методы в качестве аргументов мы будем передавать, конечно, не числа, а функции.\\\n",
    "\\\n",
    "Используем полученное знание, а также подчеркнем то, что в качестве имени атрибута, в котором лежит property может быть любым - назовем теперь не balance, а my_balance:"
   ]
  },
  {
   "cell_type": "code",
   "execution_count": null,
   "metadata": {},
   "outputs": [],
   "source": [
    "class BankAccount:\n",
    "\n",
    "    def __init__(self, name, balance):\n",
    "        self.name = name\n",
    "        self.__balance = balance\n",
    "\n",
    "    def get_balance(self):\n",
    "        print(\"get balance\")\n",
    "        return self.__balance\n",
    "\n",
    "    def set_balance(self, value):\n",
    "        print(\"set balance\")\n",
    "        if not isinstance(value, (int, float)):\n",
    "            raise ValueError(\"Баланс должен быть числом\")\n",
    "        self.__balance = value\n",
    "\n",
    "    def delete_balance(self):\n",
    "        print(\"delete balance\")\n",
    "        del self.__balance\n",
    "\n",
    "    my_balance = property()\n",
    "    my_balance = my_balance.getter(get_balance)\n",
    "    my_balance = my_balance.setter(set_balance)\n",
    "    my_balance = my_balance.deleter(delete_balance)\n",
    "\n",
    "user = BankAccount(\"Mikhail\", 1000)\n",
    "print(user.my_balance)\n",
    "user.my_balance = 1234\n",
    "del user.my_balance\n",
    "print(user.my_balance) # AttributeError"
   ]
  },
  {
   "attachments": {},
   "cell_type": "markdown",
   "metadata": {},
   "source": [
    "Также мы можем передать геттер, сеттер и делитер в конструктор property сразу"
   ]
  },
  {
   "cell_type": "code",
   "execution_count": null,
   "metadata": {},
   "outputs": [],
   "source": [
    "class BankAccount:\n",
    "\n",
    "    def __init__(self, name, balance):\n",
    "        self.name = name\n",
    "        self.__balance = balance\n",
    "\n",
    "    def get_balance(self):\n",
    "        print(\"get balance\")\n",
    "        return self.__balance\n",
    "\n",
    "    def set_balance(self, value):\n",
    "        print(\"set balance\")\n",
    "        if not isinstance(value, (int, float)):\n",
    "            raise ValueError(\"Баланс должен быть числом\")\n",
    "        self.__balance = value\n",
    "\n",
    "    def delete_balance(self):\n",
    "        print(\"delete balance\")\n",
    "        del self.__balance\n",
    "\n",
    "    my_balance = property(get_balance, set_balance, delete_balance)\n",
    "\n",
    "user = BankAccount(\"Mikhail\", 1000)\n",
    "print(user.my_balance)\n",
    "user.my_balance = 1234\n",
    "del user.my_balance\n",
    "print(user.my_balance) # AttributeError"
   ]
  },
  {
   "attachments": {},
   "cell_type": "markdown",
   "metadata": {},
   "source": [
    "Таким образом мы рассмотрели три способа задать property в нашем классе\n",
    "1)    balance = property(fget=get_balance,\n",
    "                       fset=set_balance,\n",
    "                       fdel=delete_balance)\n",
    "\n",
    "2)    my_balance = property()\\\n",
    "      my_balance = my_balance.getter(get_balance)\\\n",
    "      my_balance = my_balance.setter(set_balance)\\\n",
    "      my_balance = my_balance.deleter(delete_balance)\\\n",
    "\n",
    "3)    my_balance = property(get_balance, set_balance, delete_balance)"
   ]
  },
  {
   "attachments": {},
   "cell_type": "markdown",
   "metadata": {},
   "source": [
    "Хорошо, идем дальше. У нас возникает такая небольшая проблемка - появляется двойная функциональность.\\\n",
    "Под двойной функциональностью имеется в виду следующее:\\\n",
    "Получить значение атрибута __balance мы можем двумя путями:\n",
    "1) user.get_balance() \n",
    "2) user.my_balance\\\n",
    "Как от этого избавиться ? Ответ: использовать декораторы\\\n",
    "\\\n",
    "Для начала дадим геттеру такое же имя как и атрибуту, в котором лежит property. И передадим конструктору property геттер"
   ]
  },
  {
   "cell_type": "code",
   "execution_count": null,
   "metadata": {},
   "outputs": [],
   "source": [
    "class BankAccount:\n",
    "\n",
    "    def __init__(self, name, balance):\n",
    "        self.name = name\n",
    "        self.__balance = balance\n",
    "\n",
    "    def my_balance(self):\n",
    "        print(\"get balance\")\n",
    "        return self.__balance\n",
    "\n",
    "\n",
    "    my_balance = property(my_balance)\n",
    "\n",
    "user = BankAccount(\"Mikhail\", 1000)\n",
    "print(user.my_balance)"
   ]
  },
  {
   "attachments": {},
   "cell_type": "markdown",
   "metadata": {},
   "source": [
    "Строка my_balance = property(my_balance) есть ни что иное, как использование декоратора property.\\\n",
    "Декоратор это же функция, но property() это конструктор класса. Получается, что функция \\_\\_init\\_\\_ в propety это декоратор ?\\\n",
    "Ответа пока что я сам не знаю.\\\n",
    "\\\n",
    "Раз мы использовали декоратор, то как принято у всех, нужно пользоваться синтаксическим сахаром"
   ]
  },
  {
   "cell_type": "code",
   "execution_count": null,
   "metadata": {},
   "outputs": [],
   "source": [
    "class BankAccount:\n",
    "\n",
    "    def __init__(self, name, balance):\n",
    "        self.name = name\n",
    "        self.__balance = balance\n",
    "\n",
    "    @property\n",
    "    def my_balance(self):\n",
    "        print(\"get balance\")\n",
    "        return self.__balance\n",
    "\n",
    "user = BankAccount(\"Mikhail\", 1000)\n",
    "print(user.my_balance)"
   ]
  },
  {
   "attachments": {},
   "cell_type": "markdown",
   "metadata": {},
   "source": [
    "Все работает ! Отлично, идем дальше.\\\n",
    "\\\n",
    "Пока что мы разобрались только с геттером, а как же сеттер и тем более делитер ?\\\n",
    "\\\n",
    "my_balance после декорирования стала функцией, которая возвращается после вызова property(my_balance)\\\n",
    "my_balance теперь является property obj. Как мы видили у property obj есть метод setter(). \\\n",
    "Будем теперь этим пользоваться\n"
   ]
  },
  {
   "cell_type": "code",
   "execution_count": null,
   "metadata": {},
   "outputs": [],
   "source": [
    "class BankAccount:\n",
    "\n",
    "    def __init__(self, name, balance):\n",
    "        self.name = name\n",
    "        self.__balance = balance\n",
    "\n",
    "    @property\n",
    "    def my_balance(self):\n",
    "        print(\"get balance\")\n",
    "        return self.__balance\n",
    "\n",
    "    def set_balance(self, value):\n",
    "        print(\"set balance\")\n",
    "        if not isinstance(value, (int, float)):\n",
    "            raise ValueError(\"Баланс должен быть числом\")\n",
    "        self.__balance = value\n",
    "\n",
    "    my_balance = my_balance.setter(set_balance)\n",
    "\n",
    "\n",
    "user = BankAccount(\"Mikhail\", 1000)\n",
    "print(user.my_balance)\n",
    "user.my_balance = 1234\n",
    "print(user.my_balance)\n",
    "user.set_balance = 43\n",
    "print(user.my_balance)"
   ]
  },
  {
   "attachments": {},
   "cell_type": "markdown",
   "metadata": {},
   "source": [
    "Замечательно, теперь мы снова столкнулись с двойной функциональностью. Почему так произошло ?\\\n",
    "Ответ: потому что метод set_balance не был задекорирован (set_balance не стало функцией,\\\n",
    "которую возвращает внутри себя декоратор)\\\n",
    "\\\n",
    "Хорошо, попробуем поступить также как и с геттером, для начала назовем сеттер также как и my_balance ..."
   ]
  },
  {
   "cell_type": "code",
   "execution_count": null,
   "metadata": {},
   "outputs": [],
   "source": [
    "class BankAccount:\n",
    "\n",
    "    def __init__(self, name, balance):\n",
    "        self.name = name\n",
    "        self.__balance = balance\n",
    "\n",
    "    @property\n",
    "    def my_balance(self):\n",
    "        print(\"get balance\")\n",
    "        return self.__balance\n",
    "\n",
    "    def my_balance(self, value):\n",
    "        print(\"set balance\")\n",
    "        if not isinstance(value, (int, float)):\n",
    "            raise ValueError(\"Баланс должен быть числом\")\n",
    "        self.__balance = value\n",
    "\n",
    "    my_balance = my_balance.setter(set_balance)\n"
   ]
  },
  {
   "attachments": {},
   "cell_type": "markdown",
   "metadata": {},
   "source": [
    "Получился конфликт имен: имя свойства совпадает с именем функции (А что ? Разве у нас не было конфликта имени геттера с свойством ?)\\\n",
    "Имя my_balance перезаписалось сеттером и теперь не является объектом property и метод setter недоступен\\\n",
    "\\\n",
    "Хорошо, теперь поступим так: будем сохранять ссылку на задекорированную функцию my_balance в имя my_property_balance. В конечном счете my_balance станет свойством\\\n",
    "(иногда для простоты высказывания я буду называть объект класса property свойством)"
   ]
  },
  {
   "cell_type": "code",
   "execution_count": null,
   "metadata": {},
   "outputs": [],
   "source": [
    "class BankAccount:\n",
    "\n",
    "    def __init__(self, name, balance):\n",
    "        self.name = name\n",
    "        self.__balance = balance\n",
    "\n",
    "    @property\n",
    "    def my_balance(self):\n",
    "        print(\"get balance\")\n",
    "        return self.__balance\n",
    "\n",
    "    my_property_balance = my_balance\n",
    "\n",
    "    def my_balance(self, value):\n",
    "        print(\"set balance\")\n",
    "        if not isinstance(value, (int, float)):\n",
    "            raise ValueError(\"Баланс должен быть числом\")\n",
    "        self.__balance = value\n",
    "\n",
    "    my_balance = my_property_balance.setter(set_balance)"
   ]
  },
  {
   "attachments": {},
   "cell_type": "markdown",
   "metadata": {},
   "source": [
    "Ура, теперь мы сделали то, что хотели, но остался делитер...\\\n",
    "Делитер можно также сделать с помощью трюка с перезаписью имен. (Написать таким образом делитер остается в качестве упражнения :) \\)\\\n",
    "Но зачем так напрягаться, когда у нас есть возможность пользоваться синтаксическим сахаром питона"
   ]
  },
  {
   "cell_type": "code",
   "execution_count": null,
   "metadata": {},
   "outputs": [],
   "source": [
    "class BankAccount:\n",
    "\n",
    "    def __init__(self, name, balance):\n",
    "        self.name = name\n",
    "        self.__balance = balance\n",
    "\n",
    "    @property\n",
    "    def my_balance(self):\n",
    "        print(\"get balance\")\n",
    "        return self.__balance\n",
    "\n",
    "    @my_balance.setter\n",
    "    def my_balance(self, value):\n",
    "        print(\"set balance\")\n",
    "        if not isinstance(value, (int, float)):\n",
    "            raise ValueError(\"Баланс должен быть числом\")\n",
    "        self.__balance = value"
   ]
  },
  {
   "attachments": {},
   "cell_type": "markdown",
   "metadata": {},
   "source": [
    "my_balance это наша задекорированная функция и после @ мы можем у неё вызвать setter !\\\n",
    "Можете проверить, все будет работать\\\n",
    "\\\n",
    "Ну а теперь напишем делитер используя такую штуку"
   ]
  },
  {
   "cell_type": "code",
   "execution_count": null,
   "metadata": {},
   "outputs": [],
   "source": [
    "\n",
    "class BankAccount:\n",
    "\n",
    "    def __init__(self, name, balance):\n",
    "        self.name = name\n",
    "        self.__balance = balance\n",
    "\n",
    "    @property\n",
    "    def my_balance(self):\n",
    "        print(\"get balance\")\n",
    "        return self.__balance\n",
    "\n",
    "    @my_balance.setter\n",
    "    def my_balance(self, value):\n",
    "        print(\"set balance\")\n",
    "        if not isinstance(value, (int, float)):\n",
    "            raise ValueError(\"Баланс должен быть числом\")\n",
    "        self.__balance = value\n",
    "    \n",
    "    @my_balance.deleter\n",
    "    def my_balance(self):\n",
    "        print(\"delete balance\")\n",
    "        del self.__balance"
   ]
  },
  {
   "attachments": {},
   "cell_type": "markdown",
   "metadata": {},
   "source": [
    "Самое важное, что здесь нужно знать так это вот что: чтобы пользоваться этой вещью названия геттера, сеттера и делитера должны совпадать"
   ]
  },
  {
   "attachments": {},
   "cell_type": "markdown",
   "metadata": {},
   "source": [
    "Property Вычисляемые свойства (Calculated properties python)\\\n",
    "\\\n",
    "Научились создавать геттеры, сеттеры и делитеры с помощью property, теперь научимся использовать property в качестве вычисляемых атрибутов\\\n",
    "\\\n",
    "Представим что есть проблема\\\n",
    "\\\n",
    "Есть класс, который описывает квадрат. У него есть метод, который вычисляет площадь\n"
   ]
  },
  {
   "cell_type": "code",
   "execution_count": null,
   "metadata": {},
   "outputs": [],
   "source": [
    "class Square:\n",
    "\n",
    "    def __init__(self, s):\n",
    "        self.side = s\n",
    "\n",
    "    def area(self):\n",
    "        return self.side ** 2\n",
    "\n",
    "\n",
    "a = Square(5)\n",
    "print(a.area())"
   ]
  },
  {
   "attachments": {},
   "cell_type": "markdown",
   "metadata": {},
   "source": [
    "С одной стороны можно без проблем вычислять площадь квадрата с помощью метода. Но с другой стороны было бы логично, чтобы площадь квадрата была\\\n",
    "атрибутом-переменной класса. То есть мы при инициализации указали бы сторону квадрата и класс автоматически как-нибудь нам бы сделал так, чтобы\\\n",
    "вычислилось значение площади и записалось в атрибут-переменную\\\n",
    "Мы можем использовать property в этих целях"
   ]
  },
  {
   "cell_type": "code",
   "execution_count": null,
   "metadata": {},
   "outputs": [],
   "source": [
    "class Square:\n",
    "\n",
    "    def __init__(self, s):\n",
    "        self.side = s\n",
    "        self.__area = None\n",
    "\n",
    "    @property\n",
    "    def area(self):\n",
    "        if self.__area is None:\n",
    "            self.__area = self.side ** 2\n",
    "\n",
    "        return self.__area"
   ]
  },
  {
   "attachments": {},
   "cell_type": "markdown",
   "metadata": {},
   "source": [
    "Замечательно, но теперь мы столкнулись с ещё одной проблемой. Даже если мы где-либо в коде будем изменять значение side, то значение area никак не будет изменено\\\n",
    "Нам нужно уметь обрабатывать ситуацию, когда будет изменено значение атрибута side.\\\n",
    "Будем использовать уже полученные знания.\\\n",
    "Сделаем side приватной переменной, сделаем её свойством и установим для неё setter и getter"
   ]
  },
  {
   "cell_type": "code",
   "execution_count": null,
   "metadata": {},
   "outputs": [],
   "source": [
    "class Square:\n",
    "\n",
    "    def __init__(self, s):\n",
    "        self.__side = s\n",
    "        self.__area = None\n",
    "\n",
    "    @property\n",
    "    def side(self):\n",
    "        return self.__side\n",
    "\n",
    "    @side.setter\n",
    "    def side(self, value):\n",
    "        self.__side = value\n",
    "        self.__area = None\n",
    "\n",
    "    @property\n",
    "    def area(self):\n",
    "        if self.__area is None:\n",
    "            self.__area = self.__side ** 2\n",
    "\n",
    "        return self.__area"
   ]
  },
  {
   "attachments": {},
   "cell_type": "markdown",
   "metadata": {},
   "source": [
    "Хорошо, но есть одна маленькая деталька. Свойство area должно выглядеть вот так:"
   ]
  },
  {
   "cell_type": "code",
   "execution_count": null,
   "metadata": {},
   "outputs": [],
   "source": [
    "    @property\n",
    "    def area(self):\n",
    "        if self.__area is None:\n",
    "            self.__area = self.side ** 2\n",
    "\n",
    "        return self.__area"
   ]
  },
  {
   "attachments": {},
   "cell_type": "markdown",
   "metadata": {},
   "source": [
    "Поняли почему ? Правильно, мы определили свойство side и теперь можем не обращаться напрямую к self.__side, а вместо этого использовать геттер. \\\n",
    "Деталь то маленькая, но в этом и состоит принцип dry (don't repeat yourself), который заключается в том, чтобы не повторять уже существующие участки кода (не повторять уже реализованный функционал)\\\n",
    "\\\n",
    "Ну вот один из способов задавть вычисляемые свойства, но можно еще по-другому, например используя декоратор cache из библиотеки functools\n"
   ]
  },
  {
   "cell_type": "code",
   "execution_count": null,
   "metadata": {},
   "outputs": [],
   "source": [
    "from functools import cache\n",
    "\n",
    "class Square:\n",
    "    def __init__(self, s):\n",
    "        self.__side = s\n",
    "        \n",
    "    @property\n",
    "    @cache\n",
    "    def area(self):\n",
    "        self.__area = self.__side**2\n",
    "        return self.__area"
   ]
  }
 ],
 "metadata": {
  "kernelspec": {
   "display_name": "Python 3",
   "language": "python",
   "name": "python3"
  },
  "language_info": {
   "codemirror_mode": {
    "name": "ipython",
    "version": 3
   },
   "file_extension": ".py",
   "mimetype": "text/x-python",
   "name": "python",
   "nbconvert_exporter": "python",
   "pygments_lexer": "ipython3",
   "version": "3.10.7"
  },
  "orig_nbformat": 4
 },
 "nbformat": 4,
 "nbformat_minor": 2
}
