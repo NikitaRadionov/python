{
 "cells": [
  {
   "attachments": {},
   "cell_type": "markdown",
   "metadata": {},
   "source": [
    "\\_\\_getitem\\_\\_(self, key)\\\n",
    "\\_\\_setitem\\_\\_(self, key, value)\\\n",
    "\\_\\_delitem\\_\\_(self, key)"
   ]
  },
  {
   "cell_type": "code",
   "execution_count": null,
   "metadata": {},
   "outputs": [],
   "source": [
    "class Vector:\n",
    "    \n",
    "    def __init__(self, *args):\n",
    "        self.values = list(args)\n",
    "        \n",
    "    \n",
    "    def __getitem__(self, key): # получение элемента по индексу (ключу)\n",
    "        if 0 <= key <= len(self.values):\n",
    "            return self.values[key]\n",
    "        else:\n",
    "            raise IndexError(\"Индекс за границами коллекции\")\n",
    "    \n",
    "    \n",
    "    def __setitem__(self, key, value): # установление элемента по индексу (ключу)\n",
    "        if 0 <= key <= len(self.values):\n",
    "            self.values[key] = value\n",
    "        else:\n",
    "            raise IndexError(\"Индекс за границами коллекции\")\n",
    "    \n",
    "    \n",
    "    def __delitem__(self, key): # удаление элемента по индексу (ключу)\n",
    "        if 0 <= key <= len(self.values):\n",
    "            del self.values[key]\n",
    "        else:\n",
    "            raise IndexError(\"Индекс за границами коллекции\")\n",
    "    \n",
    "    def __str__(self):\n",
    "        return str(self.values)\n",
    "    \n",
    "    __repr__ = __str__\n",
    "\n",
    "v = Vector(1, 2, 3, 4)\n",
    "print(v)\n",
    "print(v[2])\n",
    "v[2] = 8\n",
    "print(v)\n",
    "del v[2]\n",
    "print(v)"
   ]
  },
  {
   "attachments": {},
   "cell_type": "markdown",
   "metadata": {},
   "source": [
    "\\_\\_call\\_\\_(self, *args, **kwargs) - позволяет создавать вызываемые объекты"
   ]
  },
  {
   "cell_type": "code",
   "execution_count": null,
   "metadata": {},
   "outputs": [],
   "source": [
    "class Counter:\n",
    "    \n",
    "    def __init__(self):\n",
    "        self.__counter = 0\n",
    "    \n",
    "    \n",
    "    def __call__(self, *args, **kwargs):\n",
    "        print(\"__call__\")\n",
    "        self.__counter += 1\n",
    "        return self.__counter\n",
    "\n",
    "c = Counter()\n",
    "print(c()) # вызываем экземпляр класса подобно функциям\n",
    "print(c())"
   ]
  }
 ],
 "metadata": {
  "kernelspec": {
   "display_name": "Python 3",
   "language": "python",
   "name": "python3"
  },
  "language_info": {
   "codemirror_mode": {
    "name": "ipython",
    "version": 3
   },
   "file_extension": ".py",
   "mimetype": "text/x-python",
   "name": "python",
   "nbconvert_exporter": "python",
   "pygments_lexer": "ipython3",
   "version": "3.10.7"
  },
  "orig_nbformat": 4
 },
 "nbformat": 4,
 "nbformat_minor": 2
}
