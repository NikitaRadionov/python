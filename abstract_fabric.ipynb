{
 "cells": [
  {
   "attachments": {},
   "cell_type": "markdown",
   "metadata": {},
   "source": [
    "Абстрактная фабрика (англ. Abstract factory) — порождающий шаблон проектирования, предоставляет интерфейс для создания семейств взаимосвязанных или взаимозависимых объектов, не специфицируя их конкретных классов. Шаблон реализуется созданием абстрактного класса Factory, который представляет собой интерфейс для создания компонентов системы (например, для оконного интерфейса он может создавать окна и кнопки). Затем пишутся классы, реализующие этот интерфейс.\n",
    "\n",
    "Простыми словами это конструкция, которая предоставляет интерфейс создания взаимосвязанных или взаимозависимых объектов."
   ]
  },
  {
   "cell_type": "code",
   "execution_count": null,
   "metadata": {},
   "outputs": [],
   "source": [
    "class DiagramFactory:\n",
    "    \n",
    "    def make_diagram(self, width, height):\n",
    "        return Diagram(width, height)\n",
    "    \n",
    "    def make_rectangle(self, x, y, width, height, fill=\"white\", stroke=\"black\"):\n",
    "        return Rectangle(x, y, width, height, fill, stroke)\n",
    "    \n",
    "    def make_text(self, x, y, text, fontsize=12):\n",
    "        return Text(x, y, text, fontsize)\n",
    "\n",
    "\n",
    "class SvgDiagramFactory:\n",
    "    \n",
    "    def make_diagram(self, width, height):\n",
    "        return SvgDiagram(width, height)\n",
    "    \n",
    "    def make_rectangle(self, x, y, width, height, fill=\"white\", stroke=\"black\"):\n",
    "        return SvgRectangle(x, y, width, height, fill, stroke)\n",
    "    \n",
    "    def make_text(self, x, y, text, fontsize=12):\n",
    "        return SvgText(x, y, text, fontsize)\n"
   ]
  },
  {
   "attachments": {},
   "cell_type": "markdown",
   "metadata": {},
   "source": [
    "В даноом случае нам требуется создать прямоугольник с текстом внутри открытого окна (Diagram), мы создаём сложный объект, состоящий из других объектов, причем все составляющие объекты принадлежат одному \"семейству\""
   ]
  }
 ],
 "metadata": {
  "language_info": {
   "name": "python"
  },
  "orig_nbformat": 4
 },
 "nbformat": 4,
 "nbformat_minor": 2
}
