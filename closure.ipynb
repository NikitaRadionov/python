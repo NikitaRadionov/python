{
 "cells": [
  {
   "attachments": {},
   "cell_type": "markdown",
   "metadata": {},
   "source": [
    "Каждый раз, когда мы вызываем функцию, у нее создаются локальные переменные (если они у нее есть), а после завершения работы функции все они уничтожаются.\\\n",
    "При каждом новом вызове функции данный процесс с созданием локальных переменных и их уничтожением повторяется.\\\n",
    "\\\n",
    "Но возникает вопрос: \"Можно ли сделать так, чтобы после завершения работы функции, часть локальных переменных не уничтожалась, а сохраняла свои значение до следующего запуска?\\\n",
    "Локальная переменная не будет уничтожена, если на нее где-то останется “живая” ссылка, после завершения работы функции.\\\n",
    "Эту ссылку может сохранять вложенная функция."
   ]
  },
  {
   "attachments": {},
   "cell_type": "markdown",
   "metadata": {},
   "source": [
    "Определение из википедии:\\\n",
    "Замыкание (англ. closure) в программировании — функция первого класса, в теле которой присутствуют ссылки на переменные, объявленные вне тела этой функции в окружающем коде и не являющиеся её параметрами. Говоря другим языком, замыкание — функция, которая ссылается на свободные переменные в своей области видимости.\\\n",
    "\\\n",
    "Технически замыкание включает три компонента:\\\n",
    "\\\n",
    "    1. Внешняя функция, которая определяет некоторую область видимости и в которой определены некоторые переменные и параметры - лексическое окружение\\\n",
    "    2. Переменные и параметры (лексическое окружение), которые определены во внешней функции\\\n",
    "    3. Вложенная функция, которая использует переменные и параметры внешней функции\\\n",
    "\\\n",
    "Определение:\\\n",
    "Замыкание (closure) — функция, которая находится внутри другой функции и ссылается на переменные объявленные в теле внешней функции (свободные переменные).\\\n",
    "\\\n",
    "Пояснение:\\\n",
    "Замыканием называется ситуация, когда функция пользуется переменными необъявленными в её теле\\\n",
    "Замыканием является область видимости, включающая в себя всё тело функции main_func. При этом переменная name не исчезнет после завершения."
   ]
  },
  {
   "cell_type": "code",
   "execution_count": null,
   "metadata": {},
   "outputs": [],
   "source": [
    "#1\n",
    "def main_func():\n",
    "    name = \"Nikita\"\n",
    "    def inner_func():\n",
    "        print('hello', name)\n",
    "\n",
    "    return inner_func\n",
    "\n",
    "a = main_func()\n",
    "\n",
    "a()"
   ]
  },
  {
   "attachments": {},
   "cell_type": "markdown",
   "metadata": {},
   "source": [
    "Вызываем функцию, помещаем туда значение и эта функция будет связана с этим значением.\\\n",
    "Основная идея замыкания - связать функцию с каким-либо значением"
   ]
  },
  {
   "cell_type": "code",
   "execution_count": null,
   "metadata": {},
   "outputs": [],
   "source": [
    "#2\n",
    "def main_func(value):\n",
    "    name = value\n",
    "    def inner_func():\n",
    "        print('hello', name)\n",
    "\n",
    "    return inner_func\n",
    "\n",
    "a = main_func(\"Nikita\")\n",
    "b = main_func(\"Dmitry\")\n",
    "a()\n",
    "b()"
   ]
  },
  {
   "cell_type": "code",
   "execution_count": null,
   "metadata": {},
   "outputs": [],
   "source": [
    "#3\n",
    "def main_func(value):\n",
    "    def inner_func():\n",
    "        print('hello', value)\n",
    "\n",
    "    return inner_func\n",
    "\n",
    "a = main_func(\"Nikita\")\n",
    "b = main_func(\"Dmitry\")\n",
    "a()\n",
    "b()"
   ]
  },
  {
   "cell_type": "code",
   "execution_count": null,
   "metadata": {},
   "outputs": [],
   "source": [
    "#4\n",
    "def main_func(value):\n",
    "    def inner_func(a):\n",
    "        return value + a\n",
    "    return inner_func\n",
    "a = main_func(5)\n",
    "print(a(2))\n",
    "print(a(10))"
   ]
  },
  {
   "cell_type": "code",
   "execution_count": null,
   "metadata": {},
   "outputs": [],
   "source": [
    "#5\n",
    "def counter():\n",
    "    count = 0\n",
    "    \n",
    "    def inner():\n",
    "        nonlocal count\n",
    "        count += 1\n",
    "        return count\n",
    "    \n",
    "    return inner\n",
    "\n",
    "a = counter()\n",
    "\n",
    "for i in range(5):\n",
    "    print(a())"
   ]
  }
 ],
 "metadata": {
  "kernelspec": {
   "display_name": "Python 3",
   "language": "python",
   "name": "python3"
  },
  "language_info": {
   "codemirror_mode": {
    "name": "ipython",
    "version": 3
   },
   "file_extension": ".py",
   "mimetype": "text/x-python",
   "name": "python",
   "nbconvert_exporter": "python",
   "pygments_lexer": "ipython3",
   "version": "3.10.7"
  },
  "orig_nbformat": 4
 },
 "nbformat": 4,
 "nbformat_minor": 2
}
