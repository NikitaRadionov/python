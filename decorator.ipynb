{
 "cells": [
  {
   "attachments": {},
   "cell_type": "markdown",
   "metadata": {},
   "source": [
    "Определение с википедии:\\\n",
    "Декоратор (англ. Decorator) — структурный шаблон проектирования, предназначенный для динамического подключения дополнительного поведения к объекту.\\\n",
    "\n",
    "Определение (декоратор функции в Python):\\\n",
    "Декоратор функции - это функция, которая принимает на вход другую функцию и возвращает третью функцию"
   ]
  },
  {
   "cell_type": "code",
   "execution_count": null,
   "metadata": {},
   "outputs": [],
   "source": [
    "#1\n",
    "def decorator(func):\n",
    "    \n",
    "    def inner():\n",
    "        print('start decor')\n",
    "        func()\n",
    "        print('end decor')\n",
    "    \n",
    "    return inner\n",
    "\n",
    "def say():\n",
    "    print('hello')\n",
    "\n",
    "a = decorator(say)\n",
    "a()"
   ]
  },
  {
   "cell_type": "code",
   "execution_count": null,
   "metadata": {},
   "outputs": [],
   "source": [
    "#2\n",
    "def decorator(func):\n",
    "    \n",
    "    def inner(*args, **kwargs):\n",
    "        print('start decor')\n",
    "        func()\n",
    "        print('end decor')\n",
    "    \n",
    "    return inner\n",
    "\n",
    "def say():\n",
    "    print('hello')\n",
    "\n",
    "say = decorator(say)\n",
    "a = decorator(say)\n",
    "say()\n",
    "a()"
   ]
  },
  {
   "attachments": {},
   "cell_type": "markdown",
   "metadata": {},
   "source": [
    "В Python для декораторов есть специальный синтаксис:"
   ]
  },
  {
   "cell_type": "code",
   "execution_count": null,
   "metadata": {},
   "outputs": [],
   "source": [
    "#3\n",
    "def decorator(func):\n",
    "    \n",
    "    def inner(*args, **kwargs):\n",
    "        print('start decor')\n",
    "        func()\n",
    "        print('end decor')\n",
    "    \n",
    "    return inner\n",
    "\n",
    "@decorator # say = header(say)\n",
    "def say():\n",
    "    print('hello')\n",
    "\n",
    "say()"
   ]
  },
  {
   "attachments": {},
   "cell_type": "markdown",
   "metadata": {},
   "source": [
    "Можно применить несколько декораторов"
   ]
  },
  {
   "cell_type": "code",
   "execution_count": null,
   "metadata": {},
   "outputs": [],
   "source": [
    "#4\n",
    "def decorator(func):\n",
    "    \n",
    "    def inner(*args, **kwargs):\n",
    "        print('start decor')\n",
    "        func(*args, **kwargs)\n",
    "        print('end decor')\n",
    "    \n",
    "    return inner\n",
    "\n",
    "def table(func):\n",
    "    def inner(*args, **kwargs):\n",
    "        print('start table')\n",
    "        func(*args, **kwargs)\n",
    "        print('end table')\n",
    "    return inner\n",
    "        \n",
    "\n",
    "@decorator \n",
    "@table # say = decorator(table(say))\n",
    "def say():\n",
    "    print('hello')\n",
    "\n",
    "#При таком подходе декораторы применяются снизу вверх\n",
    "\n",
    "say()"
   ]
  },
  {
   "attachments": {},
   "cell_type": "markdown",
   "metadata": {},
   "source": [
    "Важно отметить, что если функция что-то возвращает, то внутри вложенной функции мы должны возвращать результат работы исходной функции"
   ]
  },
  {
   "cell_type": "code",
   "execution_count": null,
   "metadata": {},
   "outputs": [],
   "source": [
    "from functools import wraps\n",
    "def validate_args(func):\n",
    "    @wraps(func)\n",
    "    def inner(*args):\n",
    "        if len(args) < 2:\n",
    "            return \"Not enough arguments\"\n",
    "        elif len(args) > 2:\n",
    "            return \"Too many arguments\"\n",
    "        elif not (isinstance(args[0], int) and isinstance(args[1], int)):\n",
    "            return \"Wrong types\"\n",
    "        else:\n",
    "            return func(*args)\n",
    "    return inner\n",
    "\n",
    "@validate_args\n",
    "def somefunc(*args):\n",
    "    return sum(args)\n",
    "\n",
    "print(somefunc(1, 2))\n",
    "print(somefunc(1, 2, 3))"
   ]
  },
  {
   "attachments": {},
   "cell_type": "markdown",
   "metadata": {},
   "source": [
    "Также существуют декораторы функций с параметрами"
   ]
  },
  {
   "cell_type": "code",
   "execution_count": null,
   "metadata": {},
   "outputs": [],
   "source": [
    "from math import sin, pi\n",
    "\n",
    "def decorator(dx=0.0001):\n",
    "    def wrapper(func):\n",
    "    \n",
    "        def inner(x, *args, **kwargs):\n",
    "            res = (func(x + dx, *args, **kwargs) - func(x, *args, **kwargs)) / dx\n",
    "            return res\n",
    "        \n",
    "        inner.__name__ = func.__name__\n",
    "        inner.__doc__ = func.__doc__\n",
    "\n",
    "        return inner\n",
    "    return wrapper\n",
    "\n",
    "@decorator(dx=0.001) # df_sin = decorator(dx=0.001)(df_sin)\n",
    "def df_sin(x):\n",
    "    return sin(x)\n",
    "\n",
    "df_sin(pi/3)\n"
   ]
  },
  {
   "attachments": {},
   "cell_type": "markdown",
   "metadata": {},
   "source": [
    "Классы-декораторы:\\\n",
    "Конструкцию декоратора можно реализовать с помощью классов, благодаря магическому методу \\_\\_call\\_\\_"
   ]
  },
  {
   "cell_type": "code",
   "execution_count": null,
   "metadata": {},
   "outputs": [],
   "source": [
    "from math import sin, pi\n",
    "\n",
    "class Derivate:\n",
    "    \n",
    "    def __init__(self, func):\n",
    "        self.__fn = func\n",
    "    \n",
    "    \n",
    "    def __call__(self, x, dx=0.0001, *args, **kwargs):\n",
    "        return (self.__fn(x + dx) - self.__fn(x)) / dx\n",
    "\n",
    "@Derivate # df_sin = Derivate(df_sin)\n",
    "def df_sin(x):\n",
    "    return sin(x)\n",
    "\n",
    "print(df_sin(pi/3))"
   ]
  }
 ],
 "metadata": {
  "kernelspec": {
   "display_name": "Python 3",
   "language": "python",
   "name": "python3"
  },
  "language_info": {
   "codemirror_mode": {
    "name": "ipython",
    "version": 3
   },
   "file_extension": ".py",
   "mimetype": "text/x-python",
   "name": "python",
   "nbconvert_exporter": "python",
   "pygments_lexer": "ipython3",
   "version": "3.10.7"
  },
  "orig_nbformat": 4
 },
 "nbformat": 4,
 "nbformat_minor": 2
}
