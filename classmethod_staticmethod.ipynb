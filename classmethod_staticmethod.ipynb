{
 "cells": [
  {
   "cell_type": "code",
   "execution_count": null,
   "metadata": {},
   "outputs": [],
   "source": [
    "class Example:\n",
    "\n",
    "    def hello():\n",
    "        print(\"hello\")\n",
    "\n",
    "# Если мы создаем обычную функцию, то мы можем её вызывать от самого класса, но мы не можем её вызывать от экземпляра класса\n",
    "Example.hello() #- ok, \n",
    "a = Example()\n",
    "a.hello() # TypeError\n"
   ]
  },
  {
   "cell_type": "code",
   "execution_count": null,
   "metadata": {},
   "outputs": [],
   "source": [
    "# А теперь сделаем вот так: \n",
    "\n",
    "class Example:\n",
    "\n",
    "    def hello():\n",
    "        print(\"hello\")\n",
    "\n",
    "    def instance_hello(self):\n",
    "        print(f\"instance_hello (self)\")\n",
    "\n",
    "Example.instance_hello() # TypeError"
   ]
  },
  {
   "attachments": {},
   "cell_type": "markdown",
   "metadata": {},
   "source": [
    "Функцию instance_hello() мы можем вызвать от экземпляра класса, но не можем вызвать от самого класса, потому что объект класса\\\n",
    "не передается в функцию instance_hello\\\n",
    "\\\n",
    "Таким образом можно задаться вопросом: как создать функцию, которая может вызываться как от класса, так и от его экземпляра\\\n",
    "\\\n",
    "Для решения этой проблемы был придуман декоратор staticmethod"
   ]
  },
  {
   "cell_type": "code",
   "execution_count": null,
   "metadata": {},
   "outputs": [],
   "source": [
    "class Example:\n",
    "\n",
    "    def hello():\n",
    "        print(\"hello\")\n",
    "\n",
    "    def instance_hello(self):\n",
    "        print(f\"instance_hello (self)\")\n",
    "\n",
    "    @staticmethod\n",
    "    def static_hello():\n",
    "        print(\"static_hello\")\n",
    "\n",
    "Example.static_hello()\n",
    "a = Example()\n",
    "a.static_hello()\n"
   ]
  },
  {
   "attachments": {},
   "cell_type": "markdown",
   "metadata": {},
   "source": [
    "Наш вопрос решен\\\n",
    "Когда мы создаем staticmethod, он не привязан ни к экземпляру, ни к классу и таким образом можно вызывать этот метод у обоих этих объектов\\\n",
    "\\\n",
    "staticmethod можно использовать ещё в ситуации, когда нужна какае-то функция, но мы хотим её реализовать внутри класса, а не выносить её вне класса\\\n",
    "\\\n",
    "Classmethod:\\\n",
    "\\\n",
    "По аналогии с staticmethod, classmethod является декоратором\n"
   ]
  },
  {
   "cell_type": "code",
   "execution_count": null,
   "metadata": {},
   "outputs": [],
   "source": [
    "class Example:\n",
    "\n",
    "    def hello():\n",
    "        print(\"hello\")\n",
    "\n",
    "    def instance_hello(self):\n",
    "        print(f\"instance_hello (self)\")\n",
    "\n",
    "    @staticmethod\n",
    "    def static_hello():\n",
    "        print(\"static_hello\")\n",
    "\n",
    "    @classmethod\n",
    "    def class_hello(cls):\n",
    "        print(f\"class_hello (cls)\")\n",
    "\n",
    "\n",
    "Example.class_hello()\n",
    "a = Example()\n",
    "a.class_hello()"
   ]
  },
  {
   "attachments": {},
   "cell_type": "markdown",
   "metadata": {},
   "source": [
    "class_hello принимает в качестве аргумента сам класс. Даже когда мы вызываем этот метод от экземпляра класса, всё равно в качестве аргумента будет передан сам класс\\\n",
    "Python самостоятельно определит какой класс у экземпляра a с помощью a.\\_\\_class\\_\\_ и подставит его в метод\\\n",
    "\\\n",
    "Таким образом classmethod нужен затем, чтобы создавать функции, которые будут вести обработку не экземпляров класса, а самих классов"
   ]
  }
 ],
 "metadata": {
  "language_info": {
   "name": "python"
  },
  "orig_nbformat": 4
 },
 "nbformat": 4,
 "nbformat_minor": 2
}
